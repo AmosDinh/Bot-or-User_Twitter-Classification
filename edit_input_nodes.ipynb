{
 "cells": [
  {
   "cell_type": "code",
   "execution_count": 30,
   "metadata": {},
   "outputs": [],
   "source": [
    "import pickle \n",
    "# file = 'save_input_nodes1.pkl'\n",
    "for file in ['save_input_nodes1.pkl', 'save_input_nodes2.pkl', 'save_input_nodes3.pkl', 'save_input_nodes4.pkl']:\n",
    "    data = pickle.load(open(file, 'rb'))\n",
    "    data\n",
    "\n",
    "    new_data = {}\n",
    "\n",
    "    new_data['n2791744.pt'] = {}\n",
    "    new_data['n2791744.pt'][0] = data['n2791744.pt'][0][0][:32].squeeze()\n",
    "    new_data['n2791744.pt'][1] = data['n2791744.pt'][1]\n",
    "    new_data['n2791744.pt'][2] = data['n2791744.pt'][2][0][:32].squeeze()\n",
    "    new_data['n2791744.pt'][3] = data['n2791744.pt'][3][0][:32].squeeze()\n",
    "\n",
    "    new_data['n7175872.pt'] = {}\n",
    "    new_data['n7175872.pt'][0] = data['n7175872.pt'][0][0][:32].squeeze()\n",
    "    new_data['n7175872.pt'][1] = data['n7175872.pt'][1]\n",
    "    new_data['n7175872.pt'][2] = data['n7175872.pt'][2][0][:32].squeeze()\n",
    "    new_data['n7175872.pt'][3] = data['n7175872.pt'][3][0][:32].squeeze()\n",
    "    # save as save__input_nodes1.pkl\n",
    "    new_file = file.replace('save_input_nodes', 'save__input_nodes')\n",
    "    pickle.dump(new_data, open(new_file, 'wb'))\n",
    "\n",
    "\n",
    "\n"
   ]
  },
  {
   "cell_type": "code",
   "execution_count": 35,
   "metadata": {},
   "outputs": [
    {
     "data": {
      "text/plain": [
       "'save__input_nodes4.pkl'"
      ]
     },
     "execution_count": 35,
     "metadata": {},
     "output_type": "execute_result"
    }
   ],
   "source": [
    "new_file"
   ]
  },
  {
   "cell_type": "code",
   "execution_count": 14,
   "metadata": {},
   "outputs": [
    {
     "data": {
      "text/plain": [
       "[tensor([[-1.2291],\n",
       "         [-3.2238],\n",
       "         [-4.5168],\n",
       "         ...,\n",
       "         [-2.3373],\n",
       "         [-0.6213],\n",
       "         [-9.2699]])]"
      ]
     },
     "execution_count": 14,
     "metadata": {},
     "output_type": "execute_result"
    }
   ],
   "source": [
    " data['n2791744.pt'][0][:32]"
   ]
  }
 ],
 "metadata": {
  "kernelspec": {
   "display_name": "gnntwitteranalysis",
   "language": "python",
   "name": "python3"
  },
  "language_info": {
   "codemirror_mode": {
    "name": "ipython",
    "version": 3
   },
   "file_extension": ".py",
   "mimetype": "text/x-python",
   "name": "python",
   "nbconvert_exporter": "python",
   "pygments_lexer": "ipython3",
   "version": "3.9.19"
  }
 },
 "nbformat": 4,
 "nbformat_minor": 2
}
